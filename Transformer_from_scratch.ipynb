{
  "nbformat": 4,
  "nbformat_minor": 0,
  "metadata": {
    "colab": {
      "provenance": []
    },
    "kernelspec": {
      "name": "python3",
      "display_name": "Python 3"
    },
    "language_info": {
      "name": "python"
    }
  },
  "cells": [
    {
      "cell_type": "code",
      "execution_count": null,
      "metadata": {
        "id": "2E9l0NIA3PvC"
      },
      "outputs": [],
      "source": [
        "import torch\n",
        "import torch.nn as nn\n",
        "import math"
      ]
    },
    {
      "cell_type": "markdown",
      "source": [
        "# Encoder"
      ],
      "metadata": {
        "id": "KyVIPukCO3Qj"
      }
    },
    {
      "cell_type": "code",
      "source": [
        "class InputEmbeddings(nn.Module):\n",
        "    def __init__(self,vocab_size, embed_dim):\n",
        "      super().__init__()\n",
        "      self.vocab_size = vocab_size\n",
        "      self.embed_dim = embed_dim\n",
        "      self.embeddings = nn.Embedding(vocab_size, embed_dim)\n",
        "\n",
        "\n",
        "    def forward(self, x):\n",
        "      return self.embeddings(x) * math.sqrt(self.embed_dim)   #the paper says that in the embedding weights, we multiply the weights by sqrt of dmodel\n"
      ],
      "metadata": {
        "id": "45pHGP9u3VOn"
      },
      "execution_count": null,
      "outputs": []
    },
    {
      "cell_type": "code",
      "source": [
        "class PositionalEncodings(nn.Module):\n",
        "  def __init__(self,embed_dim, seq_len, dropout):\n",
        "    super().__init__()\n",
        "    self.embed_dim = embed_dim\n",
        "    self.seq_len = seq_len\n",
        "    self.dropout = nn.Dropout(dropout)\n",
        "\n",
        "    pe = torch.zeros(seq_len, embed_dim) #create a matrix of shape (seq_len, d_shape)\n",
        "    position = torch.arange(0, seq_len, dtype = torch.float).unsqueeze(1)  #(this is basically the numerator of sin and cos formula i.e., pos)\n",
        "    div_term = torch.exp(torch.arange(0,embed_dim,2).float() * (-math.log(10000.0)/embed_dim))  #creating a vector of shape (seq_len,1)  (this is the denominator of the sin and cos formula that 10000 power di/dmodel but this is in log space so value will be a little different)\n",
        "\n",
        "    #now we know that sine is used for even positions and cos is used for odd, so apply that\n",
        "    pe[:,0::2] = torch.sin(position * div_term)  # : means each word and 0::2 means each index by adding two so 0,2,4\n",
        "    pe[:,1::2] = torch.cos(position * div_term)  #index begins from 1 with a step size of 2 so 1,3,5\n",
        "\n",
        "    #we are defining batch size here\n",
        "    pe = pe.unsqueeze(0)   # (1,seq_len,embed_dim)  -> unsqueeze returns a new tensor with a dimension of size one inserted at the specified position.\n",
        "\n",
        "    self.register_buffer('pe',pe)   #you use this when you have a tensor and you don't want it as a trainable parameter but keep inside the module , we want it to be saved when the module is saved, so we use register_buffer\n",
        "\n",
        "\n",
        "  def forward(self,x):  #we know to add input embedding + positional embedding\n",
        "    x = x + (self.pe[:,:x.shape[1],:]).required_grad_(False) # x[1] means positional encoding for that particular sentence\n",
        "\n",
        "    #requires_grad means the PE is not learnable and will remain fixed\n",
        "    return self.dropout(x)     #dropout is used to make the model less overfit\n",
        "\n",
        "  #Refers to the sequence length of the current input x. For example, if x has a shape of\n",
        "  #(batch_size, sequence_length, embedding_dim), then x.shape[1] equals sequence_length.\n",
        "  #self.pe[:, :x.shape[1], :]:\n",
        "  #Slices the positional encoding matrix to match the sequence length of x.\n",
        "  #This ensures the positional encodings align correctly with the input embeddings.\n",
        "\n",
        "\n",
        "\n"
      ],
      "metadata": {
        "id": "qy4Sot_m54uM"
      },
      "execution_count": null,
      "outputs": []
    },
    {
      "cell_type": "code",
      "source": [
        "#multi head attention\n",
        "\n",
        "class MultiHeadAttention(nn.Module):\n",
        "  def __init__(self, embed_dim, num_heads,dropout):  #this embed_dim must be divisible by head other wise we cannot divide equally in the heads\n",
        "    super().__init__()\n",
        "    self.embed_dim = embed_dim\n",
        "    self.num_heads = num_heads\n",
        "\n",
        "    assert (self.head_dim * num_heads == embed_dim), \"Embed dim must be divisible by num heads\"\n",
        "\n",
        "    #d_model / h is the the dk or dv\n",
        "    self.d_k = embed_dim // num_heads\n",
        "\n",
        "    #let's define the weight matrices\n",
        "    self.w_q = nn.Linear(embed_dim, embed_dim)\n",
        "    self.w_k = nn.Linear(embed_dim, embed_dim)\n",
        "    self.w_v = nn.Linear(embed_dim, embed_dim)\n",
        "\n",
        "    self.w_o = nn.Linear(embed_dim, embed_dim)\n",
        "    self.dropout = nn.Dropout(dropout)\n",
        "\n",
        "  @staticmethod   #by static method means that we can use this function without having an instance of this class\n",
        "  def selfAttention(self,query,key,value,mask,dropout):\n",
        "    d_k = query.shape[-1]\n",
        "    #@ in pytorch means matrix multiplication , -2,-1 means last two dimesnions that were seq_len,d_k will become d_k,seq_len\n",
        "    attention_scores = (query @ key.transpose(-2,-1)) / math.sqrt(d_k)  #attention\n",
        "    #apply mask before applying softmax and softmax will replace them with zeroes\n",
        "\n",
        "    if mask is not None:\n",
        "      attention_scores.masked_fill_(mask == 0, -1e9)    #if the condition is true, replace by that value\n",
        "\n",
        "    attention_scores = attention_scores.softmax(dim=-1)  #(batch,h, seq_len,seq_len)\n",
        "\n",
        "    if dropout is not None:\n",
        "      attention_scores = dropout(attention_scores)\n",
        "\n",
        "    return (attention_scores @ value), attention_scores   #we are returning attention scores * value bcs the output has to be given to the next layer, the other is being returned for the purpose of visualization\n",
        "\n",
        "  def forward(self,q,k,v,mask):  #mask is using to mask the words\n",
        "    query = self.w_q(q)  #(batch, seq_len,embed_dim) -> (batch,seq_len, embed_dim)\n",
        "    key = self.w_k(k)\n",
        "    value = self.w_v(v)\n",
        "\n",
        "    #now we want to divide these query, keys and values so that we can give them to different heads\n",
        "    #so we will use pytorch's view method for that\n",
        "\n",
        "    #query.shape[0] bcs we don't want to split the sentence, we want to split the embedding so we keep the batch's dimenson , also keeping the seq_len, splitting teh dimensions only to two smaller dimensions\n",
        "    query = query.view(query.shape[0], query.shape[1],self.num_heads,self.d_k).transpose(1,2)    #making h the second dimension so that we can see the full sentence\n",
        "    #transpose bcs (batch,seq_len,embed_dim) -> (batch,seq_len,h,d_k) -> (batch,h,seq_len,d_k)\n",
        "    key = key.view(key.shape[0],key.shape[1],self.num_heads, self.d_k).transpose(1,2)\n",
        "    value = value.view(value.shape[0], value.shape[1], self.num_heads, self.d_k).transpose(1,2)\n",
        "\n",
        "    #we want two things, the output and the attention scores\n",
        "    x, self.attentionscores = MultiHeadAttention.selfAttention(query,key,value,mask,self.dropout)\n",
        "\n",
        "    #now we concatenate the output of all the heads\n",
        "    x= x.tranpose(1,2).contiguous().view(x.shape[0],-1, self.h * self.d_k)  #returning to original dimensions\n",
        "\n",
        "    #and after concatenation, we finally multiply it with w_o to get the output matrix\n",
        "    return self.w_o(x)\n",
        "\n",
        "\n"
      ],
      "metadata": {
        "id": "KQOmSV3mKUtU"
      },
      "execution_count": null,
      "outputs": []
    },
    {
      "cell_type": "code",
      "source": [
        "class LayerNormalization(nn.Module):\n",
        "  def __init__(self, eps=1e-5):  #this epsilon is used to avoid 0 in the numerator so we take a small value of epsilon\n",
        "    super().__init__()\n",
        "    self.eps = eps\n",
        "    self.alpha = nn.Parameter(torch.ones(1))   #Parameter makes the parameter learnable  (alpha is multiplied)\n",
        "    self.bias = nn.Parameter(torch.zeros(1))   #torch.ones(1) creates a tensor filled with the value 1 and has a shape of (1,). (bias is added)\n",
        "\n",
        "  def forward(self,x):\n",
        "    #we need mean, std deviation and variance\n",
        "    mean = x.mean(-1, keepdim=True)\n",
        "    std = x.std(-1, keepdim=True)\n",
        "    var = x.var(-1, keepdim=True)\n",
        "    #this is the formula we use for add and norm\n",
        "    return self.alpha * (x - mean) / torch.sqrt(var + self.eps) + self.bias\n"
      ],
      "metadata": {
        "id": "nFiey5OFL9G5"
      },
      "execution_count": null,
      "outputs": []
    },
    {
      "cell_type": "code",
      "source": [
        "class FeedForward(nn.Module):\n",
        "  def __init__(self,d_model, d_ff, dropout):  #as in paper FFN(x) = max(0,xW1+b1)W2+b2\n",
        "    super().__init__()\n",
        "    self.linear_1 = nn.Linear(d_model, d_ff)  #W1 and b1 (bias ia by default truw)\n",
        "    self.dropout = nn.Dropout(dropout)\n",
        "    self.linear_2 = nn.Linear(d_ff,d_model)  #W2 and b2\n",
        "\n",
        "  def forward(self,x):     #(batch,seq_len,d_model) -> (batch,seq_len,d_ff) -> (batch,seq_len, d_model)\n",
        "    #first linear layer will make it dff and then the other linear layer will again transform it to d_model\n",
        "    x = self.linear_1(x)\n",
        "    x = torch.relu(x)\n",
        "    x = self.dropout(x)\n",
        "    x = self.linear_2(x)  #or we can also shortly write x = self.linear_2(self.dropout(torch.relu(self.linear_1(x))))\n",
        "    return x"
      ],
      "metadata": {
        "id": "hvCW68wwO8B1"
      },
      "execution_count": null,
      "outputs": []
    },
    {
      "cell_type": "code",
      "source": [
        "#now all ingredients are complete and only residual connection is left\n",
        "\n",
        "class ResidualConnection(nn.Module):\n",
        "  def __init__(self,dropout):\n",
        "    super().__init__()\n",
        "    self.dropout = nn.Dropout(dropout)\n",
        "    #skipgram or residual connection is between the add & norm and the previous layer\n",
        "\n",
        "    self.norm = LayerNormalization()\n",
        "\n",
        "  def forward(self,x,sublayer):   #sublayer means previous layer\n",
        "    return x + self.dropout(sublayer(self.norm(x)))\n",
        "\n"
      ],
      "metadata": {
        "id": "VDTj5FU_SAY0"
      },
      "execution_count": null,
      "outputs": []
    },
    {
      "cell_type": "code",
      "source": [
        "#Nx, each of the small blocks are joined together by the bigger block that is the encoder\n",
        "#and there are n encoder blocks, and the output of each layer/block is sent to the next\n",
        "\n",
        "class EncoderBlock(nn.Module):\n",
        "  def __init__(self,self_attention, feed_forward, dropout):\n",
        "    super().__init__()\n",
        "    self.self_attention_block = self_attention\n",
        "    self.feed_forward = feed_forward\n",
        "    self.dropout = nn.Dropout(dropout)\n",
        "\n",
        "    self.residualconnection = nn.ModuleList([ResidualConnection(dropout) for _ in range(2)])\n",
        "\n",
        "  def forward(self,x,src_mask):   #src mask is the mask we want to apply to the input of the encoder\n",
        "    #[0] means take the first residual connection, x is first sent to multiheadattention (self_attention is an instance of MultiHeadAttention)\n",
        "    #each x for q,k,v\n",
        "    x = self.residualconnection[0](x, lambda x: self.self_attention_block(x,x,x,src_mask))\n",
        "    #second residual connection is b/w the feed forward\n",
        "    x = self.residualconnection[1](x,self.feed_forward)\n",
        "\n",
        "    return x\n",
        "\n",
        "\n"
      ],
      "metadata": {
        "id": "UbueRV2wXYV9"
      },
      "execution_count": null,
      "outputs": []
    },
    {
      "cell_type": "code",
      "source": [
        "class Encoder(nn.Module):\n",
        "  def __init__(self, num_layers):\n",
        "    super().__init__()\n",
        "    self.num_layers = num_layers\n",
        "    self.norm = LayerNormalization()\n",
        "\n",
        "  def forward(self,x,mask):\n",
        "    for layer in self.num_layers:\n",
        "      x = layer(x,mask)\n",
        "\n",
        "    return self.norm(x)\n",
        "\n"
      ],
      "metadata": {
        "id": "bbCykSIakoQv"
      },
      "execution_count": null,
      "outputs": []
    },
    {
      "cell_type": "markdown",
      "source": [
        "**Decoder**"
      ],
      "metadata": {
        "id": "2Tl3hO4ae73N"
      }
    },
    {
      "cell_type": "code",
      "source": [
        "class DecoderBlock(nn.Module):\n",
        "  def __init__(self, self_attention, cross_attention, feed_forward, dropout):\n",
        "    super().__init__()\n",
        "    self.self_attention = self_attention\n",
        "    self.cross_attention = cross_attention\n",
        "    self.feedforward = feedforward\n",
        "    self.dropout = nn.Dropout(dropout)\n",
        "    self.residualconnection = nn.ModuleList([ResidualConnection(dropout) for _ in range(3)])\n",
        "\n",
        "  def forward(self,x,encoder_output,src_mask,tar_mask):  #source mask is the mask used by encoder and the target mask is the one used by decoder bcs we are dealing with the task of language translation\n",
        "    x = self.residualconnection[0](x, lambda x: self.self_attention(x,x,x,tar_mask))\n",
        "    x = self.residual[1](x,lambda x: self.cross_attention(x,encoder_output,encoder_output,src_mask))  #keys and values from the encoder\n",
        "    x = self.residual[2](x,self.feedforward)\n",
        "\n",
        "    return x"
      ],
      "metadata": {
        "id": "1qaUslQRe7Bb"
      },
      "execution_count": null,
      "outputs": []
    },
    {
      "cell_type": "code",
      "source": [
        "class Decoder(nn.Module):\n",
        "  def __init__(self,layers):\n",
        "    super().__init__()\n",
        "    self.layers = layers\n",
        "    self.norm = LayerNormalization()\n",
        "\n",
        "  def forward(self,x,encoder_output,src_mask,tar_mask):\n",
        "    for layer in self.layers:\n",
        "      x = layer(x,encoder_output,src_mask,tar_mask)\n",
        "\n",
        "    return self.norm"
      ],
      "metadata": {
        "id": "ODqDvjBUg5f1"
      },
      "execution_count": null,
      "outputs": []
    },
    {
      "cell_type": "code",
      "source": [
        "#coding the linear layer before applying the softmax\n",
        "class LinearLayer(nn.Module):\n",
        "  def __init___(self, embed_dim, vocab_size):\n",
        "    super().__init__()\n",
        "    self.linear = nn.Linear(embed_dim, vocab_size)\n",
        "\n",
        "  def foward(self,x):\n",
        "    #(batch,seq_len,embed_dim)  ->  (batch,seq_len,vocab_size)\n",
        "    return torch.log_softmax(self.linear(x),dim=-1)"
      ],
      "metadata": {
        "id": "U8yIpDJMhokE"
      },
      "execution_count": null,
      "outputs": []
    },
    {
      "cell_type": "code",
      "source": [
        "class Transformer(nn.Module):\n",
        "  def __init__(self, encoder, decoder, src_embed, tar_embed, src_pos,tar_pos, linear_layer):\n",
        "    super().__init__()\n",
        "\n",
        "    self.encoder = encoder\n",
        "    self.decoder = decoder\n",
        "    self.src_embed = src_embed\n",
        "    self.tar_embed = tar_embed\n",
        "    self.src_pos = src_pos\n",
        "    self.tar_pos = tar_pos\n",
        "    self.linear_layer = linear_layer\n",
        "\n",
        "  #now we will add three functions, for encoding, decoding and projecting to the linear layer\n",
        "\n",
        "  def encode(self,src,src_mask):\n",
        "    src = self.src_embed(src)\n",
        "    src = self.src_pos(src)\n",
        "    return self.encoder(src,src_mask)\n",
        "\n",
        "  def decode(self,tar,encoder_output,src_mask,tar_mask):\n",
        "    tar = self.tar_embed(tar)\n",
        "    tar = self.tar_pos(tar)\n",
        "\n",
        "    return self.decoder(tar,encoder_output,src_mask,tar_mask)\n",
        "\n",
        "  def project(self,x):\n",
        "    return self.linear_layer(x)\n"
      ],
      "metadata": {
        "id": "xm6chZ6diSUJ"
      },
      "execution_count": null,
      "outputs": []
    },
    {
      "cell_type": "code",
      "source": [
        "#now we are defining this class so that we can have an object that builds a transformer for us given the hyperparameters\n",
        "#these values are according to the paper\n",
        "def build_transformer(src_vocab_size, tar_vocab_size, src_seq_len, tar_seq_len, embed_dim = 512, n= 6, h = 8,dropout=0.1, d_ff = 2048):\n",
        "   # n = number of layers , h is the number of heads\n",
        "   src_embeddings = InputEmbeddings(vocab_size = src_vocab_size, embed_dim = embed_dim)\n",
        "   src_pos = PositionalEncodings(embed_dim = embed_dim, seq_len = src_seq)\n",
        "\n",
        "   tar_embeddings = InputEmbeddings(vocab_size = tar_vocab_size, embed_dim = embed_dim)\n",
        "   tar_pos = PositionalEncodings(embed_dim = embed_dim, seq_len = tar_seq_len)\n",
        "\n",
        "   encoder_blocks = []\n",
        "   for _ in range(n):\n",
        "    encoder_self_attention_block = MultiHeadAttention(embed_dim, h, dropout)\n",
        "    feed_forward_block = FeedForward(embed_dim, d_ff, dropout)\n",
        "    encoder_block = EncoderBlock(embed_dim, encoder_self_attention_block, feed_forward_block, dropout)\n",
        "    encoder_blocks.append(encoder_block)\n",
        "\n",
        "    # Create the decoder blocks\n",
        "    decoder_blocks = []\n",
        "   for _ in range(n):\n",
        "    decoder_self_attention_block = MultiHeadAttention(embed_dim, h, dropout)\n",
        "    decoder_cross_attention_block = MultiHeadAttention(embed_dim, h, dropout)\n",
        "    feed_forward_block = FeedForward(embed_dim, d_ff, dropout)\n",
        "    decoder_block = DecoderBlock(embed_dim, decoder_self_attention_block, decoder_cross_attention_block, feed_forward_block, dropout)\n",
        "    decoder_blocks.append(decoder_block)\n",
        "\n",
        "    # Create the encoder and decoder\n",
        "    encoder = Encoder(embed_dim, nn.ModuleList(encoder_blocks))\n",
        "    decoder = Decoder(embed_dim, nn.ModuleList(decoder_blocks))\n",
        "\n",
        "    # Create the projection layer\n",
        "    projection_layer = LinearLayer(embed_dim, tar_vocab_size)\n",
        "\n",
        "    # Create the transformer\n",
        "    transformer = Transformer(encoder, decoder, src_embeddings, tar_embeddings, src_pos, tar_pos, projection_layer)\n",
        "\n",
        "     # Initialize the parameters\n",
        "    for p in transformer.parameters():\n",
        "        if p.dim() > 1:\n",
        "            nn.init.xavier_uniform_(p)\n",
        "\n",
        "    return transformer\n",
        "\n"
      ],
      "metadata": {
        "id": "aX6PDb4GjgMb"
      },
      "execution_count": null,
      "outputs": []
    },
    {
      "cell_type": "code",
      "source": [
        "!pip install datasets"
      ],
      "metadata": {
        "colab": {
          "base_uri": "https://localhost:8080/"
        },
        "id": "FOfRZZ7e3ETu",
        "outputId": "64987d72-c5d7-4be6-fb62-6dabda050617"
      },
      "execution_count": null,
      "outputs": [
        {
          "output_type": "stream",
          "name": "stdout",
          "text": [
            "Collecting datasets\n",
            "  Downloading datasets-3.2.0-py3-none-any.whl.metadata (20 kB)\n",
            "Requirement already satisfied: filelock in /usr/local/lib/python3.10/dist-packages (from datasets) (3.16.1)\n",
            "Requirement already satisfied: numpy>=1.17 in /usr/local/lib/python3.10/dist-packages (from datasets) (1.26.4)\n",
            "Requirement already satisfied: pyarrow>=15.0.0 in /usr/local/lib/python3.10/dist-packages (from datasets) (17.0.0)\n",
            "Collecting dill<0.3.9,>=0.3.0 (from datasets)\n",
            "  Downloading dill-0.3.8-py3-none-any.whl.metadata (10 kB)\n",
            "Requirement already satisfied: pandas in /usr/local/lib/python3.10/dist-packages (from datasets) (2.2.2)\n",
            "Requirement already satisfied: requests>=2.32.2 in /usr/local/lib/python3.10/dist-packages (from datasets) (2.32.3)\n",
            "Requirement already satisfied: tqdm>=4.66.3 in /usr/local/lib/python3.10/dist-packages (from datasets) (4.66.6)\n",
            "Collecting xxhash (from datasets)\n",
            "  Downloading xxhash-3.5.0-cp310-cp310-manylinux_2_17_x86_64.manylinux2014_x86_64.whl.metadata (12 kB)\n",
            "Collecting multiprocess<0.70.17 (from datasets)\n",
            "  Downloading multiprocess-0.70.16-py310-none-any.whl.metadata (7.2 kB)\n",
            "Collecting fsspec<=2024.9.0,>=2023.1.0 (from fsspec[http]<=2024.9.0,>=2023.1.0->datasets)\n",
            "  Downloading fsspec-2024.9.0-py3-none-any.whl.metadata (11 kB)\n",
            "Requirement already satisfied: aiohttp in /usr/local/lib/python3.10/dist-packages (from datasets) (3.11.10)\n",
            "Requirement already satisfied: huggingface-hub>=0.23.0 in /usr/local/lib/python3.10/dist-packages (from datasets) (0.26.5)\n",
            "Requirement already satisfied: packaging in /usr/local/lib/python3.10/dist-packages (from datasets) (24.2)\n",
            "Requirement already satisfied: pyyaml>=5.1 in /usr/local/lib/python3.10/dist-packages (from datasets) (6.0.2)\n",
            "Requirement already satisfied: aiohappyeyeballs>=2.3.0 in /usr/local/lib/python3.10/dist-packages (from aiohttp->datasets) (2.4.4)\n",
            "Requirement already satisfied: aiosignal>=1.1.2 in /usr/local/lib/python3.10/dist-packages (from aiohttp->datasets) (1.3.1)\n",
            "Requirement already satisfied: async-timeout<6.0,>=4.0 in /usr/local/lib/python3.10/dist-packages (from aiohttp->datasets) (4.0.3)\n",
            "Requirement already satisfied: attrs>=17.3.0 in /usr/local/lib/python3.10/dist-packages (from aiohttp->datasets) (24.2.0)\n",
            "Requirement already satisfied: frozenlist>=1.1.1 in /usr/local/lib/python3.10/dist-packages (from aiohttp->datasets) (1.5.0)\n",
            "Requirement already satisfied: multidict<7.0,>=4.5 in /usr/local/lib/python3.10/dist-packages (from aiohttp->datasets) (6.1.0)\n",
            "Requirement already satisfied: propcache>=0.2.0 in /usr/local/lib/python3.10/dist-packages (from aiohttp->datasets) (0.2.1)\n",
            "Requirement already satisfied: yarl<2.0,>=1.17.0 in /usr/local/lib/python3.10/dist-packages (from aiohttp->datasets) (1.18.3)\n",
            "Requirement already satisfied: typing-extensions>=3.7.4.3 in /usr/local/lib/python3.10/dist-packages (from huggingface-hub>=0.23.0->datasets) (4.12.2)\n",
            "Requirement already satisfied: charset-normalizer<4,>=2 in /usr/local/lib/python3.10/dist-packages (from requests>=2.32.2->datasets) (3.4.0)\n",
            "Requirement already satisfied: idna<4,>=2.5 in /usr/local/lib/python3.10/dist-packages (from requests>=2.32.2->datasets) (3.10)\n",
            "Requirement already satisfied: urllib3<3,>=1.21.1 in /usr/local/lib/python3.10/dist-packages (from requests>=2.32.2->datasets) (2.2.3)\n",
            "Requirement already satisfied: certifi>=2017.4.17 in /usr/local/lib/python3.10/dist-packages (from requests>=2.32.2->datasets) (2024.8.30)\n",
            "Requirement already satisfied: python-dateutil>=2.8.2 in /usr/local/lib/python3.10/dist-packages (from pandas->datasets) (2.8.2)\n",
            "Requirement already satisfied: pytz>=2020.1 in /usr/local/lib/python3.10/dist-packages (from pandas->datasets) (2024.2)\n",
            "Requirement already satisfied: tzdata>=2022.7 in /usr/local/lib/python3.10/dist-packages (from pandas->datasets) (2024.2)\n",
            "Requirement already satisfied: six>=1.5 in /usr/local/lib/python3.10/dist-packages (from python-dateutil>=2.8.2->pandas->datasets) (1.17.0)\n",
            "Downloading datasets-3.2.0-py3-none-any.whl (480 kB)\n",
            "\u001b[2K   \u001b[90m━━━━━━━━━━━━━━━━━━━━━━━━━━━━━━━━━━━━━━━━\u001b[0m \u001b[32m480.6/480.6 kB\u001b[0m \u001b[31m9.2 MB/s\u001b[0m eta \u001b[36m0:00:00\u001b[0m\n",
            "\u001b[?25hDownloading dill-0.3.8-py3-none-any.whl (116 kB)\n",
            "\u001b[2K   \u001b[90m━━━━━━━━━━━━━━━━━━━━━━━━━━━━━━━━━━━━━━━━\u001b[0m \u001b[32m116.3/116.3 kB\u001b[0m \u001b[31m8.0 MB/s\u001b[0m eta \u001b[36m0:00:00\u001b[0m\n",
            "\u001b[?25hDownloading fsspec-2024.9.0-py3-none-any.whl (179 kB)\n",
            "\u001b[2K   \u001b[90m━━━━━━━━━━━━━━━━━━━━━━━━━━━━━━━━━━━━━━━━\u001b[0m \u001b[32m179.3/179.3 kB\u001b[0m \u001b[31m12.5 MB/s\u001b[0m eta \u001b[36m0:00:00\u001b[0m\n",
            "\u001b[?25hDownloading multiprocess-0.70.16-py310-none-any.whl (134 kB)\n",
            "\u001b[2K   \u001b[90m━━━━━━━━━━━━━━━━━━━━━━━━━━━━━━━━━━━━━━━━\u001b[0m \u001b[32m134.8/134.8 kB\u001b[0m \u001b[31m10.0 MB/s\u001b[0m eta \u001b[36m0:00:00\u001b[0m\n",
            "\u001b[?25hDownloading xxhash-3.5.0-cp310-cp310-manylinux_2_17_x86_64.manylinux2014_x86_64.whl (194 kB)\n",
            "\u001b[2K   \u001b[90m━━━━━━━━━━━━━━━━━━━━━━━━━━━━━━━━━━━━━━━━\u001b[0m \u001b[32m194.1/194.1 kB\u001b[0m \u001b[31m14.0 MB/s\u001b[0m eta \u001b[36m0:00:00\u001b[0m\n",
            "\u001b[?25hInstalling collected packages: xxhash, fsspec, dill, multiprocess, datasets\n",
            "  Attempting uninstall: fsspec\n",
            "    Found existing installation: fsspec 2024.10.0\n",
            "    Uninstalling fsspec-2024.10.0:\n",
            "      Successfully uninstalled fsspec-2024.10.0\n",
            "\u001b[31mERROR: pip's dependency resolver does not currently take into account all the packages that are installed. This behaviour is the source of the following dependency conflicts.\n",
            "gcsfs 2024.10.0 requires fsspec==2024.10.0, but you have fsspec 2024.9.0 which is incompatible.\u001b[0m\u001b[31m\n",
            "\u001b[0mSuccessfully installed datasets-3.2.0 dill-0.3.8 fsspec-2024.9.0 multiprocess-0.70.16 xxhash-3.5.0\n"
          ]
        }
      ]
    },
    {
      "cell_type": "code",
      "source": [
        "from datasets import load_dataset\n",
        "from tokenizers import Tokenizer\n",
        "from tokenizers.models import WordLevel\n",
        "from tokenizers.trainers import WordLevelTrainer\n",
        "from tokenizers.pre_tokenizers import Whitespace\n",
        "\n",
        "from pathlib import Path\n",
        "\n",
        "def get_all_sentences(ds, lang):  #we just want to yield one particular language\n",
        "  for item in ds:\n",
        "    yield item['translation'][lang]\n",
        "\n",
        "def get_tokenizer(config,ds,lang):\n",
        "  tokenizer_path = Path(config[\"Tokenizer_file\"].format(lang))\n",
        "  if not tokenizer_path.exists():\n",
        "    tokenizer = Tokenizer(WordLevel(unk_token=\"[UNK]\")) #if there is a word in it's vocab that it has not seen then replace with UNK token's equivalent embedding\n",
        "    tokenizer.pre_tokenizer = Whitespace()\n",
        "    trainer = WordLevelTrainer(special_tokens = [\"[UNK]\", \"[PAD]\", \"[SOS]\", \"[EOS]\"], min_frequency = 2)\n",
        "    tokenizer.train_from_iterator(trainer,get_all_sentences(ds,lang))\n",
        "    tokenizer.save(str(tokenizer_path))\n",
        "  else:\n",
        "    tokenizer = tokenizer.from_file(str(tokenizer_path))\n",
        "\n",
        "  return tokenizer\n"
      ],
      "metadata": {
        "id": "mIuLpH1Tous5"
      },
      "execution_count": null,
      "outputs": []
    },
    {
      "cell_type": "code",
      "source": [
        "from torch.utils.data import DataLoader,Dataset,random_split\n",
        "\n",
        "def get_ds(config):\n",
        "  ds_raw = load_dataset(\"opus_books\",f'{config[\"lang_src\"]}{config[\"lang_tgt\"]}',split=\"train\")\n",
        "\n",
        "  #build a tokenzier\n",
        "  tokenizer_src = get_tokenizer(config,ds_raw,config[\"lang_src\"])\n",
        "  tokenizer_tgt = get_tokenizer(config,ds_raw,config[\"lang_tgt\"])\n",
        "\n",
        "  #train/val split  #in the hugging face dataset we only have training set, so we will split for validation as well\n",
        "  train_ds_size = int(0.9 * len(ds_raw))\n",
        "  val_ds_size = len(ds_raw) - train_ds_size\n",
        "\n",
        "  train_ds_size,val_ds_size = random_split(ds_raw,[train_ds_size,val_ds_size])\n",
        "\n"
      ],
      "metadata": {
        "id": "5Ed2KLZY28P-"
      },
      "execution_count": null,
      "outputs": []
    }
  ]
}